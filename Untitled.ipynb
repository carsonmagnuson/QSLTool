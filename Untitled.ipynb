{
 "cells": [
  {
   "cell_type": "markdown",
   "id": "56ebbe06-5c06-414b-8d87-8b9d9be1cafa",
   "metadata": {},
   "source": [
    "**pipeline description**"
   ]
  },
  {
   "cell_type": "markdown",
   "id": "2dbd06c4-e738-4e7f-92fb-37d5fe65d7f7",
   "metadata": {},
   "source": [
    "1 - Define a model Hamiltonian for a material using Heisenberg and Dzyaloshinskii-Moriya (DM) interactions.\n",
    "\n",
    "2 - Encode the Hamiltonian using PennyLane observables on a small qubit system.\n",
    "\n",
    "3 - Set up a quantum simulator (default.qubit) with 4 qubits to represent the spin lattice.\n",
    "\n",
    "4 - Construct a variational quantum circuit (ansatz) with parameterized Y-rotations and entangling CNOT gates.\n",
    "\n",
    "5 - Define a cost function as the expectation value of the Hamiltonian with respect to the quantum state.\n",
    "\n",
    "6 - Apply the Variational Quantum Eigensolver (VQE) to minimize the energy and approximate the ground state.\n",
    "\n",
    "7 - Extract the optimized quantum state (ground state wavefunction).\n",
    "\n",
    "8 - Compute the spin–spin correlation matrix  from the ground state.\n",
    "\n",
    "9 - Visualize and interpret the correlation matrix to identify magnetic ordering or potential quantum spin liquid behavior.\n",
    "\n",
    "**Keywords**\n",
    "\n",
    "**Heisenberg + Dzyaloshinskii-Moriya** models describing spin exchange and antisymmetric spin interactions.\n",
    "\n",
    "**PennyLane** a Python library for quantum machine learning and simulation.\n",
    "\n",
    "**Ansatz** a parameterized quantum circuit used to approximate the ground state.\n",
    "\n",
    "**Spin correlation** a measure of how spins at different sites are aligned or anti-aligned, used to detect magnetic phases."
   ]
  },
  {
   "cell_type": "code",
   "execution_count": null,
   "id": "7a08fee4-24cf-446a-9fc2-aace7d0cbdf3",
   "metadata": {},
   "outputs": [],
   "source": []
  },
  {
   "cell_type": "code",
   "execution_count": null,
   "id": "a26580c2-d4ac-4173-94b4-953a42415a11",
   "metadata": {},
   "outputs": [],
   "source": []
  },
  {
   "cell_type": "code",
   "execution_count": null,
   "id": "fb96695c-3562-4f87-95a8-38817d77102f",
   "metadata": {},
   "outputs": [],
   "source": []
  },
  {
   "cell_type": "code",
   "execution_count": null,
   "id": "8d1ce171-5708-4de9-af29-8c84b9107f72",
   "metadata": {},
   "outputs": [],
   "source": []
  },
  {
   "cell_type": "code",
   "execution_count": null,
   "id": "2d37b223-8e39-41f9-b4ea-56b4e74b4256",
   "metadata": {},
   "outputs": [],
   "source": []
  },
  {
   "cell_type": "code",
   "execution_count": null,
   "id": "e28b3faa-8e27-4598-b7db-3858b0c16dae",
   "metadata": {},
   "outputs": [],
   "source": []
  },
  {
   "cell_type": "code",
   "execution_count": null,
   "id": "51e6f41a-f575-4ee2-98dc-c2dcc54ff0cd",
   "metadata": {},
   "outputs": [],
   "source": []
  },
  {
   "cell_type": "code",
   "execution_count": null,
   "id": "959313ce-1ab2-4db7-b3c1-19ee1058edba",
   "metadata": {},
   "outputs": [],
   "source": []
  },
  {
   "cell_type": "code",
   "execution_count": null,
   "id": "3e54e998-e535-4454-ac7a-db292547976d",
   "metadata": {},
   "outputs": [],
   "source": []
  },
  {
   "cell_type": "code",
   "execution_count": null,
   "id": "46ab07cd-65dc-4b9a-a926-7569b9907228",
   "metadata": {},
   "outputs": [],
   "source": []
  },
  {
   "cell_type": "code",
   "execution_count": null,
   "id": "ce499c90-ed6f-4cfc-b16b-a1efb1110659",
   "metadata": {},
   "outputs": [],
   "source": []
  },
  {
   "cell_type": "markdown",
   "id": "a43dda58-993f-4956-ba3c-5314070b2915",
   "metadata": {},
   "source": [
    "1 . Find the material’s specific spin Hamiltonian :\n",
    "  - **Herbertsmithite (ZnCu₃(OH)₆Cl₂)** as a candidate material exhibiting potential Quantum Spin Liquid (QSL) behavior. "
   ]
  },
  {
   "cell_type": "markdown",
   "id": "32b4c999-e09c-40ea-9c10-d4c81ad5cb39",
   "metadata": {},
   "source": [
    "2 . This material has been extensively studied and is known for its kagome lattice structure of spin-1/2 copper ions, which leads to strong geometric frustration and a lack of long-range magnetic order at low temperatures."
   ]
  },
  {
   "cell_type": "markdown",
   "id": "4c433889-c892-4db9-8f77-9f58811bc872",
   "metadata": {},
   "source": [
    "H = J1 * SUM (Si . Sj) + J2 * SUM (Si . Sk) + D * SUM (Z * (Si * Sj))\n",
    "- J1 = is the nearest-neighbor Heisenberg exchange coupling .\n",
    "- J2 = the next neighbor exchange couplingg\n",
    "- D =  the Dzyaloshinskii-Moriya interaction term\n"
   ]
  },
  {
   "cell_type": "code",
   "execution_count": 2,
   "id": "ae1ea4a4-9da5-46e8-85a2-4021d3c7b75e",
   "metadata": {},
   "outputs": [
    {
     "name": "stdout",
     "output_type": "stream",
     "text": [
      "Collecting pennylane\n",
      "  Downloading PennyLane-0.41.1-py3-none-any.whl (2.3 MB)\n",
      "     ---------------------------------------- 2.3/2.3 MB 11.0 MB/s eta 0:00:00\n",
      "Requirement already satisfied: numpy in c:\\users\\x280\\appdata\\local\\programs\\python\\python311\\lib\\site-packages (from pennylane) (1.23.5)\n",
      "Requirement already satisfied: scipy in c:\\users\\x280\\appdata\\local\\programs\\python\\python311\\lib\\site-packages (from pennylane) (1.16.0)\n",
      "Collecting networkx\n",
      "  Downloading networkx-3.5-py3-none-any.whl (2.0 MB)\n",
      "     ---------------------------------------- 2.0/2.0 MB 16.2 MB/s eta 0:00:00\n",
      "Requirement already satisfied: rustworkx>=0.14.0 in c:\\users\\x280\\appdata\\local\\programs\\python\\python311\\lib\\site-packages (from pennylane) (0.16.0)\n",
      "Collecting autograd\n",
      "  Downloading autograd-1.8.0-py3-none-any.whl (51 kB)\n",
      "     ---------------------------------------- 51.5/51.5 kB 2.7 MB/s eta 0:00:00\n",
      "Collecting tomlkit\n",
      "  Downloading tomlkit-0.13.3-py3-none-any.whl (38 kB)\n",
      "Collecting appdirs\n",
      "  Downloading appdirs-1.4.4-py2.py3-none-any.whl (9.6 kB)\n",
      "Collecting autoray>=0.6.11\n",
      "  Downloading autoray-0.7.2-py3-none-any.whl (930 kB)\n",
      "     ------------------------------------- 930.8/930.8 kB 14.6 MB/s eta 0:00:00\n",
      "Collecting cachetools\n",
      "  Downloading cachetools-6.1.0-py3-none-any.whl (11 kB)\n",
      "Collecting pennylane-lightning>=0.41\n",
      "  Downloading pennylane_lightning-0.41.1-cp311-cp311-win_amd64.whl (6.5 MB)\n",
      "     ---------------------------------------- 6.5/6.5 MB 17.3 MB/s eta 0:00:00\n",
      "Requirement already satisfied: requests in c:\\users\\x280\\appdata\\local\\programs\\python\\python311\\lib\\site-packages (from pennylane) (2.32.4)\n",
      "Requirement already satisfied: typing-extensions in c:\\users\\x280\\appdata\\local\\programs\\python\\python311\\lib\\site-packages (from pennylane) (4.14.1)\n",
      "Requirement already satisfied: packaging in c:\\users\\x280\\appdata\\local\\programs\\python\\python311\\lib\\site-packages (from pennylane) (25.0)\n",
      "Collecting diastatic-malt\n",
      "  Downloading diastatic_malt-2.15.2-py3-none-any.whl (167 kB)\n",
      "     -------------------------------------- 167.9/167.9 kB 9.9 MB/s eta 0:00:00\n",
      "Collecting scipy-openblas32>=0.3.26\n",
      "  Downloading scipy_openblas32-0.3.30.0.1-py3-none-win_amd64.whl (7.1 MB)\n",
      "     ---------------------------------------- 7.1/7.1 MB 25.1 MB/s eta 0:00:00\n",
      "Collecting astunparse\n",
      "  Downloading astunparse-1.6.3-py2.py3-none-any.whl (12 kB)\n",
      "Collecting gast\n",
      "  Downloading gast-0.6.0-py3-none-any.whl (21 kB)\n",
      "Collecting termcolor\n",
      "  Downloading termcolor-3.1.0-py3-none-any.whl (7.7 kB)\n",
      "Requirement already satisfied: charset_normalizer<4,>=2 in c:\\users\\x280\\appdata\\local\\programs\\python\\python311\\lib\\site-packages (from requests->pennylane) (3.4.2)\n",
      "Requirement already satisfied: idna<4,>=2.5 in c:\\users\\x280\\appdata\\local\\programs\\python\\python311\\lib\\site-packages (from requests->pennylane) (3.10)\n",
      "Requirement already satisfied: urllib3<3,>=1.21.1 in c:\\users\\x280\\appdata\\local\\programs\\python\\python311\\lib\\site-packages (from requests->pennylane) (2.5.0)\n",
      "Requirement already satisfied: certifi>=2017.4.17 in c:\\users\\x280\\appdata\\local\\programs\\python\\python311\\lib\\site-packages (from requests->pennylane) (2025.7.9)\n",
      "Collecting numpy\n",
      "  Downloading numpy-2.3.1-cp311-cp311-win_amd64.whl (13.0 MB)\n",
      "     --------------------------------------- 13.0/13.0 MB 21.8 MB/s eta 0:00:00\n",
      "Collecting wheel<1.0,>=0.23.0\n",
      "  Downloading wheel-0.45.1-py3-none-any.whl (72 kB)\n",
      "     ---------------------------------------- 72.5/72.5 kB ? eta 0:00:00\n",
      "Requirement already satisfied: six<2.0,>=1.6.1 in c:\\users\\x280\\appdata\\local\\programs\\python\\python311\\lib\\site-packages (from astunparse->diastatic-malt->pennylane) (1.17.0)\n",
      "Installing collected packages: appdirs, wheel, tomlkit, termcolor, scipy-openblas32, numpy, networkx, gast, cachetools, autoray, autograd, astunparse, diastatic-malt, pennylane-lightning, pennylane\n",
      "  Attempting uninstall: numpy\n",
      "    Found existing installation: numpy 1.23.5\n",
      "    Uninstalling numpy-1.23.5:\n",
      "      Successfully uninstalled numpy-1.23.5\n",
      "Successfully installed appdirs-1.4.4 astunparse-1.6.3 autograd-1.8.0 autoray-0.7.2 cachetools-6.1.0 diastatic-malt-2.15.2 gast-0.6.0 networkx-3.5 numpy-2.3.1 pennylane-0.41.1 pennylane-lightning-0.41.1 scipy-openblas32-0.3.30.0.1 termcolor-3.1.0 tomlkit-0.13.3 wheel-0.45.1\n"
     ]
    },
    {
     "name": "stderr",
     "output_type": "stream",
     "text": [
      "\n",
      "[notice] A new release of pip available: 22.3 -> 25.1.1\n",
      "[notice] To update, run: python.exe -m pip install --upgrade pip\n"
     ]
    }
   ],
   "source": [
    "!pip install pennylane\n"
   ]
  },
  {
   "cell_type": "code",
   "execution_count": 3,
   "id": "ade95360-2266-4c13-ae3c-53b8de7cf3dc",
   "metadata": {},
   "outputs": [],
   "source": [
    "import pennylane as qml\n",
    "from pennylane import numpy as np\n",
    "import matplotlib.pyplot as plt\n",
    "from itertools import combinations\n"
   ]
  },
  {
   "cell_type": "markdown",
   "id": "fa7ff606-44ec-43be-8737-be7b71eed631",
   "metadata": {},
   "source": [
    "**BUILDING THE HAMILTONIAN**"
   ]
  },
  {
   "cell_type": "code",
   "execution_count": 7,
   "id": "1ec1ac3b-25a9-43c4-9277-ebf1e25278a9",
   "metadata": {},
   "outputs": [],
   "source": [
    "import pennylane as qml #  library for hybrid quantum-classical computing.\n",
    "\n",
    "#  NumPy version that supports automatic\n",
    "#differentiation (useful for training).\n",
    "from pennylane import numpy as np \n",
    "\n",
    "\n"
   ]
  },
  {
   "cell_type": "markdown",
   "id": "131d8032-49d5-4a3d-bc4c-f4046e65e3a8",
   "metadata": {},
   "source": [
    "- Define the system size\n",
    "- simulate 1D-1/2 chain with 3 qubits\n",
    "4 qubits why ? \n",
    "- reasonable size for classical simulation \n",
    "- larger sizes may become too slow \n",
    "- These values are derived from density functional theory (DFT) calculations and experimental measurements ."
   ]
  },
  {
   "cell_type": "code",
   "execution_count": null,
   "id": "082b9291-6bdb-40df-8500-31dc05aaaebd",
   "metadata": {},
   "outputs": [],
   "source": [
    "# Basic spin-1/2 chain with nearest-neighbor Heisenberg + DM terms\n",
    "N = 4  # Use 4 qubits for VQE (12 is too large for classical simulation)\n",
    "\n",
    "J1 = 17.0\n",
    "J2 = 0.019 * J1\n",
    "D = -0.035 * J1"
   ]
  },
  {
   "cell_type": "code",
   "execution_count": null,
   "id": "0d9d3fa9-fcaa-484e-af35-9afbda48f611",
   "metadata": {},
   "outputs": [],
   "source": [
    "# Basic spin-1/2 chain with nearest-neighbor Heisenberg + DM terms\n",
    "N = 4  # Use 4 qubits for VQE (12 is too large for classical simulation)\n",
    "\n",
    "J1 = 17.0\n",
    "J2 = 0.019 * J1\n",
    "D = -0.035 * J1"
   ]
  },
  {
   "cell_type": "code",
   "execution_count": null,
   "id": "506c563c-cc9e-4c84-af86-7aa55e011560",
   "metadata": {},
   "outputs": [],
   "source": [
    "# Build the Heisenberg + DM Hamiltonian using PennyLane observables\n",
    "coeffs = [] # stores the numerical values (coupling strengths).\n",
    "obs = [] # stores the corresponding quantum operators (Pauli operators).\n",
    "# the hamiltonian is buuilt like H = sum( coeff[i] . obs[i] ), for all i values"
   ]
  },
  {
   "cell_type": "code",
   "execution_count": null,
   "id": "22d4780b-ad1f-4984-b55d-9d804db4d720",
   "metadata": {},
   "outputs": [],
   "source": [
    "\"\"\" Loop over each spin i and define its neighbor j:\n",
    "\n",
    "j = (i+1)%N ensures periodic boundary conditions (the chain forms a loop).\n",
    "\n",
    "This is typical in quantum spin models to avoid edge effects. \"\"\""
   ]
  },
  {
   "cell_type": "code",
   "execution_count": null,
   "id": "6a26f686-f58d-492a-80a1-e1b722ac34b4",
   "metadata": {},
   "outputs": [],
   "source": [
    "\n",
    "for i in range(N):\n",
    "    j = (i + 1) % N  # periodic chain"
   ]
  },
  {
   "cell_type": "markdown",
   "id": "8c531720-ee01-47fc-9b80-47b86bcda83c",
   "metadata": {},
   "source": [
    "**Heisenberg interaction**\n",
    "- Adds three terms for each pair of spins : XiXj + YiYj + ZiZj\n",
    "- This models the quantum spin exchange between neighboring sites\n",
    "- The @ operator builds tensor products of Pauli matrices ( like 𝑋⊗𝑋 )"
   ]
  },
  {
   "cell_type": "code",
   "execution_count": null,
   "id": "052ec1b6-0d7b-429e-8c7e-853dbce68a0b",
   "metadata": {},
   "outputs": [],
   "source": [
    "    # Heisenberg terms\n",
    "    coeffs += [J1, J1, J1]\n",
    "    obs += [qml.PauliX(i) @ qml.PauliX(j),\n",
    "            qml.PauliY(i) @ qml.PauliY(j),\n",
    "            qml.PauliZ(i) @ qml.PauliZ(j)]\n"
   ]
  },
  {
   "cell_type": "markdown",
   "id": "f6136faa-0d51-4927-8c50-d36d1410ca4e",
   "metadata": {},
   "source": [
    "**Dzyaloshinskii–Moriya (DM) interaction**\n",
    "- Normally involves cross products of spin vectors:  𝐷(𝑆𝑖×𝑆𝑗)\n",
    "- Here, we tried only simplified as a 𝑍𝑖𝑍𝑗 term for illustration.\n",
    "- This term can induce magnetic frustration — a feature of quantum spin liquids (QSLs)."
   ]
  },
  {
   "cell_type": "code",
   "execution_count": null,
   "id": "35d2eeb4-c117-4210-9d7f-dac1c8975cf7",
   "metadata": {},
   "outputs": [],
   "source": [
    "    # DM interaction (simplified here as Sz x Sz, you can do cross product later)\n",
    "    coeffs.append(D)\n",
    "    obs.append(qml.PauliZ(i) @ qml.PauliZ(j))"
   ]
  },
  {
   "cell_type": "markdown",
   "id": "18dad305-2427-4850-9cc5-93e5e7a4d98b",
   "metadata": {},
   "source": [
    "**Final Hamiltonian construction**\n",
    "- Combines the list of coefficients and operators into a single PennyLane Hamiltonian object."
   ]
  },
  {
   "cell_type": "code",
   "execution_count": null,
   "id": "cdee848d-c6dd-45f0-92cf-cb3e55b47660",
   "metadata": {},
   "outputs": [],
   "source": [
    "H = qml.Hamiltonian(coeffs, obs)\n"
   ]
  },
  {
   "cell_type": "markdown",
   "id": "aea7627f-45bc-4590-9f9f-673b34e968f3",
   "metadata": {},
   "source": [
    "**Define quantum device ( simulator ) and ansatz**"
   ]
  },
  {
   "cell_type": "markdown",
   "id": "06687492-4594-4860-a07c-6844b35ba028",
   "metadata": {},
   "source": [
    "**This ansatz generates a quantum state ∣𝜓(𝜃)⟩, which is used by VQE to approximate the ground state of the Hamiltonian you defined earlier.**"
   ]
  },
  {
   "cell_type": "code",
   "execution_count": 8,
   "id": "0840ed03-f8bc-45be-9d52-c1eafeb79e14",
   "metadata": {},
   "outputs": [],
   "source": [
    "# A built-in state-vector simulator (runs on classical CPU).\n",
    "# This sets the number of qubits to match our system size (4 in this case).\n",
    "#This device will be used to simulate quantum circuits and evaluate observables like ⟨H⟩\n",
    "dev = qml.device(\"default.qubit\", wires=N)\n",
    "\n"
   ]
  },
  {
   "cell_type": "markdown",
   "id": "77df9f09-8cbd-4f93-ac97-ec8e92fcaa44",
   "metadata": {},
   "source": [
    "**Define the parameterized quantum circuit (ansatz)**\n",
    "- This function builds a variational wavefunction\n",
    "- Each qubit is rotated around the Y-axis by a parameter params[i] using qml.RY(...)\n",
    "- These parameters are trainable and will be optimized to minimize the energy."
   ]
  },
  {
   "cell_type": "code",
   "execution_count": null,
   "id": "799257b4-5140-4f3f-9df1-97049f8690ce",
   "metadata": {},
   "outputs": [],
   "source": [
    "\n",
    "def ansatz(params):\n",
    "    \n",
    "    for i in range(N):\n",
    "        qml.RY(params[i], wires=i)\n"
   ]
  },
  {
   "cell_type": "markdown",
   "id": "a9e4db2d-23c3-4f56-8917-3e753f031fe2",
   "metadata": {},
   "source": [
    "**Entangle Te qubits**\n",
    "- A series of CNOT gates is applied between each neighbor pair (from qubit 0 to 1, 1 to 2, etc.).\n",
    "- This creates quantum entanglement between the spins — necessary for capturing correlated quantum behavior.\n",
    "\n"
   ]
  },
  {
   "cell_type": "code",
   "execution_count": null,
   "id": "69296e4c-3b4c-40fb-b672-7861252ecb87",
   "metadata": {},
   "outputs": [],
   "source": [
    "    for i in range(N - 1):\n",
    "        qml.CNOT(wires=[i, i + 1])"
   ]
  },
  {
   "cell_type": "markdown",
   "id": "a3466e44-6f16-4464-8eff-3bdf5b520137",
   "metadata": {},
   "source": [
    "**Define cost function**"
   ]
  },
  {
   "cell_type": "markdown",
   "id": "5f465f72-e00c-4af3-bc8e-07de165ad369",
   "metadata": {},
   "source": [
    "**VQE cost function** — it evaluates how good the current parameters are by computing the system's energy. The optimizer will try to minimize this function"
   ]
  },
  {
   "cell_type": "code",
   "execution_count": 9,
   "id": "79eaea53-8d77-46e6-9e6a-f493df33c14e",
   "metadata": {},
   "outputs": [],
   "source": [
    "# This decorator turns the function into a quantum circuit that runs on the device dev.\n",
    "@qml.qnode(dev)\n",
    "\n",
    "#This function takes the variational parameters and returns the expected energy.\n",
    "def cost_fn(params):\n",
    "    # Applies your parameterized quantum circuit to prepare the quantum state ∣𝜓(𝜃)⟩\n",
    "    ansatz(params)\n",
    "\n",
    "    # Measures the expectation value of the Hamiltonian ⟨ψ(θ)|H|ψ(θ)⟩ — this is the VQE cost function (energy to minimize).\n",
    "    return qml.expval(H)\n"
   ]
  },
  {
   "cell_type": "markdown",
   "id": "15725135-a78f-4b4f-b269-fb2e3b3e277d",
   "metadata": {},
   "source": [
    "**Optimize the parameters with VQE**\n",
    "Optimize the variational parameters to find the ground state"
   ]
  },
  {
   "cell_type": "markdown",
   "id": "37479f72-3fcd-4351-aec2-b4477093a1ca",
   "metadata": {},
   "source": [
    "This block trains the quantum circuit to approximate the ground state of the material, by minimizing the energy using gradient descent."
   ]
  },
  {
   "cell_type": "code",
   "execution_count": 10,
   "id": "9ded52a8-ea9f-4bb4-beb5-5ba0592f4de8",
   "metadata": {},
   "outputs": [
    {
     "name": "stdout",
     "output_type": "stream",
     "text": [
      "Iteration 0: Energy = -29.564784\n",
      "Iteration 10: Energy = 12.905378\n",
      "Iteration 20: Energy = 7.138512\n",
      "Iteration 30: Energy = -4.196666\n",
      "Iteration 40: Energy = 4.163774\n",
      "Iteration 50: Energy = -0.914285\n",
      "Iteration 60: Energy = -9.704482\n",
      "Iteration 70: Energy = -1.098324\n",
      "Iteration 80: Energy = -9.449055\n",
      "Iteration 90: Energy = -1.209352\n"
     ]
    }
   ],
   "source": [
    "# ➡️ Initializes a gradient descent optimizer that will adjust the parameters to minimize the energy.\n",
    "\n",
    "\n",
    "opt = qml.GradientDescentOptimizer(stepsize=0.1)\n",
    "\n",
    "# Randomly initializes the N variational parameters for the ansatz.\n",
    "params = np.random.randn(N)\n",
    "\n",
    "\n",
    "# This loop runs the VQE training:\n",
    "\n",
    "#At each step, the optimizer updates the parameters to lower the energy.\n",
    "\n",
    "#Every 10 iterations, it prints the current energy.\n",
    "\n",
    "\n",
    "for i in range(100):\n",
    "    params = opt.step(cost_fn, params)\n",
    "    energy = cost_fn(params)\n",
    "    if i % 10 == 0:\n",
    "        print(f\"Iteration {i}: Energy = {energy:.6f}\")\n"
   ]
  },
  {
   "cell_type": "markdown",
   "id": "d457c8fb-3ec0-46fd-bf5e-e163dba8b839",
   "metadata": {},
   "source": [
    "**This block extracts the final quantum state obtained by VQE — it represents the approximate ground state of the material's Hamiltonian.**"
   ]
  },
  {
   "cell_type": "code",
   "execution_count": 11,
   "id": "41ce3045-c6e2-4737-ad83-8fc80d4faf5f",
   "metadata": {},
   "outputs": [],
   "source": [
    "@qml.qnode(dev)\n",
    "#  This function applies the optimized ansatz and returns the full quantum state vector.\n",
    "\n",
    "\n",
    "def get_state(params):\n",
    "    ansatz(params)\n",
    "    return qml.state()\n",
    "#After training (VQE), this gives you the final ground state ∣𝜓opt⟩of the system\n",
    "# Get optimized state\n",
    "ground_state = get_state(params)\n"
   ]
  },
  {
   "cell_type": "markdown",
   "id": "f3522d94-918a-494d-9944-772393906e1a",
   "metadata": {},
   "source": [
    "**This block calculates the Z-Z spin correlation matrix, giving insight into the magnetic structure of the material — a key indicator to identify quantum spin liquid behavior.**"
   ]
  },
  {
   "cell_type": "code",
   "execution_count": 13,
   "id": "285b4e0b-7b36-4ee0-a864-60382e9a947d",
   "metadata": {},
   "outputs": [],
   "source": [
    "\n",
    "import matplotlib.pyplot as plt\n",
    "\n",
    "corr = np.zeros((N, N))\n",
    "\n",
    "for i in range(N):\n",
    "    for j in range(N):\n",
    "        @qml.qnode(dev)\n",
    "        def corr_fn(params):\n",
    "            ansatz(params)\n",
    "            return qml.expval(qml.PauliZ(i) @ qml.PauliZ(j))\n",
    "        \n",
    "        corr[i, j] = corr_fn(params).real\n",
    "\n"
   ]
  },
  {
   "cell_type": "code",
   "execution_count": 14,
   "id": "c2b98f59-9275-4ed0-88e6-add92dd402d6",
   "metadata": {},
   "outputs": [
    {
     "data": {
      "image/png": "[encoded data removed]",
      "text/plain": [
       "<Figure size 600x500 with 2 Axes>"
      ]
     },
     "metadata": {},
     "output_type": "display_data"
    }
   ],
   "source": [
    "plt.figure(figsize=(6, 5))\n",
    "plt.imshow(corr, cmap=\"RdBu\", origin=\"lower\")\n",
    "plt.title(\"Spin–Spin Correlation ⟨Sᶻᵢ Sᶻⱼ⟩\")\n",
    "plt.colorbar(label=\"Correlation\")\n",
    "plt.xlabel(\"Site j\")\n",
    "plt.ylabel(\"Site i\")\n",
    "plt.show()\n",
    "\n",
    "# Red = strong positive correlation (ferromagnetic).\n",
    "\n",
    "# Blue = strong negative correlation (antiferromagnetic).\n",
    "\n",
    "# White ≈ zero correlation (possible QSL).\n",
    "\n",
    "\n"
   ]
  },
  {
   "cell_type": "code",
   "execution_count": null,
   "id": "2b823d18-077b-473c-be75-6c24769bf6be",
   "metadata": {},
   "outputs": [],
   "source": []
  },
  {
   "cell_type": "code",
   "execution_count": null,
   "id": "1caec03d-4234-41c3-b64b-d28778ca4c05",
   "metadata": {},
   "outputs": [],
   "source": []
  }
 ],
 "metadata": {
  "kernelspec": {
   "display_name": "Python 3 (ipykernel)",
   "language": "python",
   "name": "python3"
  },
  "language_info": {
   "codemirror_mode": {
    "name": "ipython",
    "version": 3
   },
   "file_extension": ".py",
   "mimetype": "text/x-python",
   "name": "python",
   "nbconvert_exporter": "python",
   "pygments_lexer": "ipython3",
   "version": "3.11.0"
  }
 },
 "nbformat": 4,
 "nbformat_minor": 5
}
